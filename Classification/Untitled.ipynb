{
 "cells": [
  {
   "cell_type": "code",
   "execution_count": null,
   "id": "b52b8e0d",
   "metadata": {},
   "outputs": [],
   "source": []
  },
  {
   "cell_type": "code",
   "execution_count": 1,
   "id": "a20b4d28",
   "metadata": {},
   "outputs": [],
   "source": [
    "import os\n",
    "directory = 'models/simple-pytorch-model/1'\n",
    "os.makedirs(directory, exist_ok=True)"
   ]
  },
  {
   "cell_type": "code",
   "execution_count": 2,
   "id": "9c959bc0",
   "metadata": {},
   "outputs": [],
   "source": [
    "import time\n",
    "import numpy as np\n",
    "import spacy\n",
    "import torch\n",
    "import torch.nn as nn\n",
    "import torchtext\n",
    "from torch.utils.data import DataLoader, Dataset, random_split\n",
    "import torch.optim as optim\n",
    "import torch.nn.functional as fn"
   ]
  },
  {
   "cell_type": "code",
   "execution_count": 3,
   "id": "edde093a",
   "metadata": {},
   "outputs": [],
   "source": [
    "import torch\n",
    "from torch import nn\n",
    "from torchvision import models\n",
    "\n",
    "\n",
    "class Model(nn.Module):\n",
    "    def __init__(self):\n",
    "        super(Model, self).__init__()\n",
    "        self.model = models.resnet50(weights=\"IMAGENET1K_V1\")\n",
    "\n",
    "    def forward(self, x):\n",
    "        return self.model(x)\n",
    "\n",
    "model = Model().eval().cuda()"
   ]
  },
  {
   "cell_type": "code",
   "execution_count": 4,
   "id": "7de8763f",
   "metadata": {},
   "outputs": [],
   "source": [
    "class PyTorch_to_TorchScript(nn.Module):\n",
    "    def __init__(self, my_model):\n",
    "        super(PyTorch_to_TorchScript, self).__init__()\n",
    "        self.model = my_model.model\n",
    "\n",
    "    def forward(self, x):\n",
    "        return self.model(x)\n",
    "\n",
    "torchscript_model = PyTorch_to_TorchScript(model).eval().cuda()\n",
    "traced_script_module = torch.jit.script(torchscript_model)\n",
    "traced_script_module.save('models/simple-pytorch-model/1/model.pt')"
   ]
  },
  {
   "cell_type": "code",
   "execution_count": 5,
   "id": "014a93e2",
   "metadata": {},
   "outputs": [],
   "source": [
    "config = \"\"\"\n",
    "name: \"simple-pytorch-model\"\n",
    "platform: \"pytorch_libtorch\"\n",
    "max_batch_size: 32\n",
    "input [\n",
    "{\n",
    "name: \"input__0\"\n",
    "data_type: TYPE_FP32\n",
    "format: FORMAT_NCHW\n",
    "dims: [3, 224, 224]\n",
    "}\n",
    "]\n",
    "output [ \n",
    "{\n",
    "name: \"output__0\"\n",
    "data_type: TYPE_FP32\n",
    "dims: [1000]\n",
    "}\n",
    "]\n",
    "parameters: {\n",
    "  key: \"EXECUTION_ENV_PATH\",\n",
    "  value: {string_value: \"D:/Abhi/COURSERA/Pytorch-practice/Classification/models/simple-pytorch-model/1/model.pt\"}\n",
    "}\n",
    "\"\"\"\n",
    "\n",
    "with open('models/simple-pytorch-model/config.pbtxt', 'w') as file:\n",
    "    file.write(config)"
   ]
  },
  {
   "cell_type": "code",
   "execution_count": null,
   "id": "1761bda8",
   "metadata": {},
   "outputs": [],
   "source": []
  },
  {
   "cell_type": "code",
   "execution_count": 34,
   "id": "612fe11b",
   "metadata": {},
   "outputs": [
    {
     "name": "stderr",
     "output_type": "stream",
     "text": [
      "  % Total    % Received % Xferd  Average Speed   Time    Time     Time  Current\n",
      "                                 Dload  Upload   Total   Spent    Left  Speed\n",
      "\n",
      "  0     0    0     0    0     0      0      0 --:--:-- --:--:-- --:--:--     0*   Trying 127.0.0.1:8000...\n",
      "* Connected to localhost (127.0.0.1) port 8000 (#0)\n",
      "> GET /v2/health/ready HTTP/1.1\n",
      "\n",
      "> Host: localhost:8000\n",
      "\n",
      "> User-Agent: curl/8.0.1\n",
      "\n",
      "> Accept: */*\n",
      "\n",
      "> \n",
      "\n",
      "< HTTP/1.1 200 OK\n",
      "\n",
      "< Content-Length: 0\n",
      "\n",
      "< Content-Type: text/plain\n",
      "\n",
      "< \n",
      "\n",
      "\n",
      "  0     0    0     0    0     0      0      0 --:--:-- --:--:-- --:--:--     0\n",
      "* Connection #0 to host localhost left intact\n"
     ]
    }
   ],
   "source": [
    "!curl -v localhost:8000/v2/health/ready"
   ]
  },
  {
   "cell_type": "code",
   "execution_count": 36,
   "id": "09bac6ab",
   "metadata": {},
   "outputs": [
    {
     "name": "stdout",
     "output_type": "stream",
     "text": [
      "{\"error\":\"Request for unknown model: 'simple-pytorch-model' is not found\"}\n"
     ]
    },
    {
     "name": "stderr",
     "output_type": "stream",
     "text": [
      "  % Total    % Received % Xferd  Average Speed   Time    Time     Time  Current\n",
      "                                 Dload  Upload   Total   Spent    Left  Speed\n",
      "\n",
      "  0     0    0     0    0     0      0      0 --:--:-- --:--:-- --:--:--     0*   Trying 127.0.0.1:8000...\n",
      "* Connected to localhost (127.0.0.1) port 8000 (#0)\n",
      "> GET /v2/models/simple-pytorch-model HTTP/1.1\n",
      "\n",
      "> Host: localhost:8000\n",
      "\n",
      "> User-Agent: curl/8.0.1\n",
      "\n",
      "> Accept: */*\n",
      "\n",
      "> \n",
      "\n",
      "< HTTP/1.1 400 Bad Request\n",
      "\n",
      "< Content-Type: application/json\n",
      "\n",
      "< Content-Length: 74\n",
      "\n",
      "< \n",
      "\n",
      "{ [74 bytes data]\n",
      "\n",
      "100    74  100    74    0     0  17366      0 --:--:-- --:--:-- --:--:-- 18500\n",
      "* Connection #0 to host localhost left intact\n"
     ]
    }
   ],
   "source": [
    "!curl -v localhost:8000/v2/models/simple-pytorch-model"
   ]
  },
  {
   "cell_type": "code",
   "execution_count": 27,
   "id": "ac9dae03",
   "metadata": {},
   "outputs": [],
   "source": [
    "import tritonclient.http as tritonhttpclient"
   ]
  },
  {
   "cell_type": "code",
   "execution_count": 36,
   "id": "f0a04910",
   "metadata": {},
   "outputs": [],
   "source": [
    "VERBOSE = False\n",
    "input_name = 'input__0'\n",
    "input_shape = (1, 3, 224, 224)\n",
    "input_dtype = 'FP32'\n",
    "output_name = 'output__0'\n",
    "model_name = 'simple-pytorch-model'\n",
    "url = 'localhost:8000'\n",
    "model_version = '1'"
   ]
  },
  {
   "cell_type": "code",
   "execution_count": 37,
   "id": "7c4238ba",
   "metadata": {},
   "outputs": [
    {
     "ename": "InferenceServerException",
     "evalue": "[400] Request for unknown model: 'simple-pytorch-model' is not found",
     "output_type": "error",
     "traceback": [
      "\u001b[1;31m---------------------------------------------------------------------------\u001b[0m",
      "\u001b[1;31mInferenceServerException\u001b[0m                  Traceback (most recent call last)",
      "Cell \u001b[1;32mIn[37], line 2\u001b[0m\n\u001b[0;32m      1\u001b[0m triton_client \u001b[38;5;241m=\u001b[39m tritonhttpclient\u001b[38;5;241m.\u001b[39mInferenceServerClient(url\u001b[38;5;241m=\u001b[39murl, verbose\u001b[38;5;241m=\u001b[39mVERBOSE)\n\u001b[1;32m----> 2\u001b[0m model_metadata \u001b[38;5;241m=\u001b[39m \u001b[43mtriton_client\u001b[49m\u001b[38;5;241;43m.\u001b[39;49m\u001b[43mget_model_metadata\u001b[49m\u001b[43m(\u001b[49m\u001b[43mmodel_name\u001b[49m\u001b[38;5;241;43m=\u001b[39;49m\u001b[43mmodel_name\u001b[49m\u001b[43m,\u001b[49m\u001b[43m \u001b[49m\u001b[43mmodel_version\u001b[49m\u001b[38;5;241;43m=\u001b[39;49m\u001b[43mmodel_version\u001b[49m\u001b[43m)\u001b[49m\n\u001b[0;32m      3\u001b[0m model_config \u001b[38;5;241m=\u001b[39m triton_client\u001b[38;5;241m.\u001b[39mget_model_config(model_name\u001b[38;5;241m=\u001b[39mmodel_name, model_version\u001b[38;5;241m=\u001b[39mmodel_version)\n",
      "File \u001b[1;32m~\\anaconda3\\envs\\torch113\\lib\\site-packages\\tritonclient\\http\\_client.py:512\u001b[0m, in \u001b[0;36mInferenceServerClient.get_model_metadata\u001b[1;34m(self, model_name, model_version, headers, query_params)\u001b[0m\n\u001b[0;32m    507\u001b[0m     request_uri \u001b[38;5;241m=\u001b[39m \u001b[38;5;124m\"\u001b[39m\u001b[38;5;124mv2/models/\u001b[39m\u001b[38;5;132;01m{}\u001b[39;00m\u001b[38;5;124m\"\u001b[39m\u001b[38;5;241m.\u001b[39mformat(quote(model_name))\n\u001b[0;32m    509\u001b[0m response \u001b[38;5;241m=\u001b[39m \u001b[38;5;28mself\u001b[39m\u001b[38;5;241m.\u001b[39m_get(request_uri\u001b[38;5;241m=\u001b[39mrequest_uri,\n\u001b[0;32m    510\u001b[0m                      headers\u001b[38;5;241m=\u001b[39mheaders,\n\u001b[0;32m    511\u001b[0m                      query_params\u001b[38;5;241m=\u001b[39mquery_params)\n\u001b[1;32m--> 512\u001b[0m \u001b[43m_raise_if_error\u001b[49m\u001b[43m(\u001b[49m\u001b[43mresponse\u001b[49m\u001b[43m)\u001b[49m\n\u001b[0;32m    514\u001b[0m content \u001b[38;5;241m=\u001b[39m response\u001b[38;5;241m.\u001b[39mread()\n\u001b[0;32m    515\u001b[0m \u001b[38;5;28;01mif\u001b[39;00m \u001b[38;5;28mself\u001b[39m\u001b[38;5;241m.\u001b[39m_verbose:\n",
      "File \u001b[1;32m~\\anaconda3\\envs\\torch113\\lib\\site-packages\\tritonclient\\http\\_utils.py:57\u001b[0m, in \u001b[0;36m_raise_if_error\u001b[1;34m(response)\u001b[0m\n\u001b[0;32m     55\u001b[0m error \u001b[38;5;241m=\u001b[39m _get_error(response)\n\u001b[0;32m     56\u001b[0m \u001b[38;5;28;01mif\u001b[39;00m error \u001b[38;5;129;01mis\u001b[39;00m \u001b[38;5;129;01mnot\u001b[39;00m \u001b[38;5;28;01mNone\u001b[39;00m:\n\u001b[1;32m---> 57\u001b[0m     \u001b[38;5;28;01mraise\u001b[39;00m error\n",
      "\u001b[1;31mInferenceServerException\u001b[0m: [400] Request for unknown model: 'simple-pytorch-model' is not found"
     ]
    }
   ],
   "source": [
    "triton_client = tritonhttpclient.InferenceServerClient(url=url, verbose=VERBOSE)\n",
    "model_metadata = triton_client.get_model_metadata(model_name=model_name, model_version=model_version)\n",
    "model_config = triton_client.get_model_config(model_name=model_name, model_version=model_version)"
   ]
  },
  {
   "cell_type": "code",
   "execution_count": null,
   "id": "08f654c4",
   "metadata": {},
   "outputs": [],
   "source": []
  }
 ],
 "metadata": {
  "kernelspec": {
   "display_name": "Python 3 (ipykernel)",
   "language": "python",
   "name": "python3"
  },
  "language_info": {
   "codemirror_mode": {
    "name": "ipython",
    "version": 3
   },
   "file_extension": ".py",
   "mimetype": "text/x-python",
   "name": "python",
   "nbconvert_exporter": "python",
   "pygments_lexer": "ipython3",
   "version": "3.9.16"
  }
 },
 "nbformat": 4,
 "nbformat_minor": 5
}
